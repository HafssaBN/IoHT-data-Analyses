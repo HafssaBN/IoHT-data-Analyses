{
 "cells": [
  {
   "cell_type": "code",
   "execution_count": 1,
   "metadata": {},
   "outputs": [],
   "source": [
    "import re\n",
    "import numpy as np\n",
    "import pandas as pd"
   ]
  },
  {
   "cell_type": "code",
   "execution_count": 2,
   "metadata": {},
   "outputs": [],
   "source": [
    "path_to_data = 'data/ECU_IoHT.xlsx'\n",
    "data = pd.read_excel(path_to_data)"
   ]
  },
  {
   "cell_type": "code",
   "execution_count": 3,
   "metadata": {},
   "outputs": [],
   "source": [
    "def extract_source_destination_port(text):\n",
    "    match = re.search(r'(\\d+)\\s*>\\s*(\\d+)', text)\n",
    "    if match:\n",
    "        source, destination = match.groups()\n",
    "        # Remove the matched substring from text\n",
    "        updated_text = text.replace(match.group(0), '', 1).strip()\n",
    "        return int(source), int(destination), updated_text\n",
    "    else:\n",
    "        return np.nan, np.nan, text"
   ]
  },
  {
   "cell_type": "code",
   "execution_count": 4,
   "metadata": {},
   "outputs": [],
   "source": [
    "df = pd.DataFrame()\n",
    "df[['source_p', 'destination_p', 'updated_info']] = data.Info.apply(lambda x: pd.Series(extract_source_destination_port(x)))"
   ]
  },
  {
   "cell_type": "code",
   "execution_count": 5,
   "metadata": {},
   "outputs": [
    {
     "data": {
      "text/plain": [
       "(8833, 24010)"
      ]
     },
     "execution_count": 5,
     "metadata": {},
     "output_type": "execute_result"
    }
   ],
   "source": [
    "df['updated_info'].nunique(), data['Info'].nunique()"
   ]
  },
  {
   "cell_type": "code",
   "execution_count": 6,
   "metadata": {},
   "outputs": [],
   "source": [
    "def extract_seq(text):\n",
    "    # Adjust regex to match the sequence number\n",
    "    match = re.search(r'seq\\s*=\\s*(\\d+)', text, re.IGNORECASE)  #\n",
    "    if match:\n",
    "        Seq = match.group(1)  # Get the first group directly\n",
    "        updated_text = text.replace(match.group(0), '', 1).strip()\n",
    "        return int(Seq), updated_text\n",
    "    else:\n",
    "        return np.nan, text\n"
   ]
  },
  {
   "cell_type": "code",
   "execution_count": 7,
   "metadata": {},
   "outputs": [],
   "source": [
    "df2 = pd.DataFrame()\n",
    "df2[['seq', 'updated_info']] = df['updated_info'].apply(lambda x: pd.Series(extract_seq(x)))"
   ]
  },
  {
   "cell_type": "code",
   "execution_count": 8,
   "metadata": {},
   "outputs": [
    {
     "data": {
      "text/plain": [
       "(7677, 8833, 24010)"
      ]
     },
     "execution_count": 8,
     "metadata": {},
     "output_type": "execute_result"
    }
   ],
   "source": [
    "df2['updated_info'].nunique(), df['updated_info'].nunique(), data['Info'].nunique()"
   ]
  },
  {
   "cell_type": "code",
   "execution_count": 9,
   "metadata": {},
   "outputs": [
    {
     "data": {
      "text/plain": [
       "2379"
      ]
     },
     "execution_count": 9,
     "metadata": {},
     "output_type": "execute_result"
    }
   ],
   "source": [
    "df2[df2['seq'].notna()]['seq'].nunique()"
   ]
  },
  {
   "cell_type": "code",
   "execution_count": 10,
   "metadata": {},
   "outputs": [],
   "source": [
    "def extract_transaction_id(text):\n",
    "    # Regex to match transaction ID starting with 0x and followed by hexadecimal characters\n",
    "    match = re.search(r'0x[0-9a-fA-F]+', text)\n",
    "    \n",
    "    if match:\n",
    "        # Extract the transaction ID as a string\n",
    "        transaction_id = match.group(0)\n",
    "        \n",
    "        # Remove the transaction ID from the original text\n",
    "        updated_text = text.replace(transaction_id, '').strip()  # Strip to clean up any leading/trailing spaces\n",
    "        \n",
    "        # Return the integer value of the transaction ID and the updated text\n",
    "        return int(transaction_id, 16), updated_text  # Convert hex to integer and return\n",
    "        \n",
    "    else:\n",
    "        # If no transaction ID is found, return np.nan for both values\n",
    "        return np.nan, text\n"
   ]
  },
  {
   "cell_type": "code",
   "execution_count": 11,
   "metadata": {},
   "outputs": [],
   "source": [
    "df3 = pd.DataFrame()\n",
    "df3[['transaction_id', 'updated_info']] = df2['updated_info'].apply(lambda x: pd.Series(extract_transaction_id(x)))"
   ]
  },
  {
   "cell_type": "code",
   "execution_count": 12,
   "metadata": {},
   "outputs": [
    {
     "data": {
      "text/plain": [
       "(7166, 7677, 8833, 24010)"
      ]
     },
     "execution_count": 12,
     "metadata": {},
     "output_type": "execute_result"
    }
   ],
   "source": [
    "df3['updated_info'].nunique(), df2['updated_info'].nunique(), df['updated_info'].nunique(), data['Info'].nunique()"
   ]
  },
  {
   "cell_type": "code",
   "execution_count": null,
   "metadata": {},
   "outputs": [],
   "source": [
    "def extract_len(text):\n",
    "    match = re.search(r'len=(\\d+)', text.lower())\n",
    "    if match:\n",
    "        length = match.group(1) \n",
    "        updated_text = text.replace(length, '').strip()  # Strip to clean up any leading/trailing spaces\n",
    "        return int(length), updated_text\n",
    "    else:\n",
    "        return np.nan  "
   ]
  },
  {
   "cell_type": "code",
   "execution_count": 4,
   "metadata": {},
   "outputs": [],
   "source": [
    "def extract_source_destination_port(text):\n",
    "    match = re.search(r'(\\d+)\\s*>\\s*(\\d+)', text)\n",
    "    if match:\n",
    "        source, destination = match.groups()\n",
    "        return int(source), int(destination)\n",
    "    else:\n",
    "        return np.nan\n",
    "    \n",
    "\n",
    "\n",
    "def extract_source_destination_port(text):\n",
    "    match = re.search(r'(\\d+)\\s*>\\s*(\\d+)', text)\n",
    "    if match:\n",
    "        source, destination = match.groups()\n",
    "        # Remove the matched substring from text\n",
    "        updated_text = text.replace(match.group(0), '', 1).strip()\n",
    "        return int(source), int(destination), updated_text\n",
    "    else:\n",
    "        return np.nan, np.nan, text\n"
   ]
  },
  {
   "cell_type": "code",
   "execution_count": 5,
   "metadata": {},
   "outputs": [],
   "source": [
    "path_to_data = 'data/ECU_IoHT.xlsx'\n",
    "data = pd.read_excel(path_to_data)"
   ]
  },
  {
   "cell_type": "code",
   "execution_count": 7,
   "metadata": {},
   "outputs": [],
   "source": [
    "df = pd.DataFrame()\n",
    "df[['source_p', 'destination_p']] = data.Info.apply(lambda x: pd.Series(extract_source_destination_port(x)))"
   ]
  },
  {
   "cell_type": "code",
   "execution_count": 8,
   "metadata": {},
   "outputs": [
    {
     "data": {
      "text/html": [
       "<div>\n",
       "<style scoped>\n",
       "    .dataframe tbody tr th:only-of-type {\n",
       "        vertical-align: middle;\n",
       "    }\n",
       "\n",
       "    .dataframe tbody tr th {\n",
       "        vertical-align: top;\n",
       "    }\n",
       "\n",
       "    .dataframe thead th {\n",
       "        text-align: right;\n",
       "    }\n",
       "</style>\n",
       "<table border=\"1\" class=\"dataframe\">\n",
       "  <thead>\n",
       "    <tr style=\"text-align: right;\">\n",
       "      <th></th>\n",
       "      <th>source_p</th>\n",
       "      <th>destination_p</th>\n",
       "    </tr>\n",
       "  </thead>\n",
       "  <tbody>\n",
       "    <tr>\n",
       "      <th>6</th>\n",
       "      <td>36954.0</td>\n",
       "      <td>1720.0</td>\n",
       "    </tr>\n",
       "    <tr>\n",
       "      <th>7</th>\n",
       "      <td>36954.0</td>\n",
       "      <td>5900.0</td>\n",
       "    </tr>\n",
       "    <tr>\n",
       "      <th>8</th>\n",
       "      <td>36954.0</td>\n",
       "      <td>135.0</td>\n",
       "    </tr>\n",
       "    <tr>\n",
       "      <th>9</th>\n",
       "      <td>36954.0</td>\n",
       "      <td>143.0</td>\n",
       "    </tr>\n",
       "    <tr>\n",
       "      <th>10</th>\n",
       "      <td>36954.0</td>\n",
       "      <td>993.0</td>\n",
       "    </tr>\n",
       "    <tr>\n",
       "      <th>...</th>\n",
       "      <td>...</td>\n",
       "      <td>...</td>\n",
       "    </tr>\n",
       "    <tr>\n",
       "      <th>111197</th>\n",
       "      <td>3850.0</td>\n",
       "      <td>443.0</td>\n",
       "    </tr>\n",
       "    <tr>\n",
       "      <th>111198</th>\n",
       "      <td>3850.0</td>\n",
       "      <td>443.0</td>\n",
       "    </tr>\n",
       "    <tr>\n",
       "      <th>111199</th>\n",
       "      <td>3850.0</td>\n",
       "      <td>443.0</td>\n",
       "    </tr>\n",
       "    <tr>\n",
       "      <th>111200</th>\n",
       "      <td>3850.0</td>\n",
       "      <td>443.0</td>\n",
       "    </tr>\n",
       "    <tr>\n",
       "      <th>111201</th>\n",
       "      <td>3850.0</td>\n",
       "      <td>443.0</td>\n",
       "    </tr>\n",
       "  </tbody>\n",
       "</table>\n",
       "<p>23498 rows × 2 columns</p>\n",
       "</div>"
      ],
      "text/plain": [
       "        source_p  destination_p\n",
       "6        36954.0         1720.0\n",
       "7        36954.0         5900.0\n",
       "8        36954.0          135.0\n",
       "9        36954.0          143.0\n",
       "10       36954.0          993.0\n",
       "...          ...            ...\n",
       "111197    3850.0          443.0\n",
       "111198    3850.0          443.0\n",
       "111199    3850.0          443.0\n",
       "111200    3850.0          443.0\n",
       "111201    3850.0          443.0\n",
       "\n",
       "[23498 rows x 2 columns]"
      ]
     },
     "execution_count": 8,
     "metadata": {},
     "output_type": "execute_result"
    }
   ],
   "source": [
    "df[df['source_p'].notna() & df['destination_p'].notna()]"
   ]
  },
  {
   "cell_type": "code",
   "execution_count": 9,
   "metadata": {},
   "outputs": [],
   "source": [
    "df[['len']] = data.Info.apply(lambda x: pd.Series(extract_len(x)))"
   ]
  },
  {
   "cell_type": "code",
   "execution_count": 10,
   "metadata": {},
   "outputs": [
    {
     "data": {
      "text/html": [
       "<div>\n",
       "<style scoped>\n",
       "    .dataframe tbody tr th:only-of-type {\n",
       "        vertical-align: middle;\n",
       "    }\n",
       "\n",
       "    .dataframe tbody tr th {\n",
       "        vertical-align: top;\n",
       "    }\n",
       "\n",
       "    .dataframe thead th {\n",
       "        text-align: right;\n",
       "    }\n",
       "</style>\n",
       "<table border=\"1\" class=\"dataframe\">\n",
       "  <thead>\n",
       "    <tr style=\"text-align: right;\">\n",
       "      <th></th>\n",
       "      <th>source_p</th>\n",
       "      <th>destination_p</th>\n",
       "      <th>len</th>\n",
       "    </tr>\n",
       "  </thead>\n",
       "  <tbody>\n",
       "    <tr>\n",
       "      <th>6</th>\n",
       "      <td>36954.0</td>\n",
       "      <td>1720.0</td>\n",
       "      <td>0.0</td>\n",
       "    </tr>\n",
       "    <tr>\n",
       "      <th>7</th>\n",
       "      <td>36954.0</td>\n",
       "      <td>5900.0</td>\n",
       "      <td>0.0</td>\n",
       "    </tr>\n",
       "    <tr>\n",
       "      <th>8</th>\n",
       "      <td>36954.0</td>\n",
       "      <td>135.0</td>\n",
       "      <td>0.0</td>\n",
       "    </tr>\n",
       "    <tr>\n",
       "      <th>9</th>\n",
       "      <td>36954.0</td>\n",
       "      <td>143.0</td>\n",
       "      <td>0.0</td>\n",
       "    </tr>\n",
       "    <tr>\n",
       "      <th>10</th>\n",
       "      <td>36954.0</td>\n",
       "      <td>993.0</td>\n",
       "      <td>0.0</td>\n",
       "    </tr>\n",
       "    <tr>\n",
       "      <th>...</th>\n",
       "      <td>...</td>\n",
       "      <td>...</td>\n",
       "      <td>...</td>\n",
       "    </tr>\n",
       "    <tr>\n",
       "      <th>111197</th>\n",
       "      <td>3850.0</td>\n",
       "      <td>443.0</td>\n",
       "      <td>69.0</td>\n",
       "    </tr>\n",
       "    <tr>\n",
       "      <th>111198</th>\n",
       "      <td>3850.0</td>\n",
       "      <td>443.0</td>\n",
       "      <td>0.0</td>\n",
       "    </tr>\n",
       "    <tr>\n",
       "      <th>111199</th>\n",
       "      <td>3850.0</td>\n",
       "      <td>443.0</td>\n",
       "      <td>341.0</td>\n",
       "    </tr>\n",
       "    <tr>\n",
       "      <th>111200</th>\n",
       "      <td>3850.0</td>\n",
       "      <td>443.0</td>\n",
       "      <td>0.0</td>\n",
       "    </tr>\n",
       "    <tr>\n",
       "      <th>111201</th>\n",
       "      <td>3850.0</td>\n",
       "      <td>443.0</td>\n",
       "      <td>0.0</td>\n",
       "    </tr>\n",
       "  </tbody>\n",
       "</table>\n",
       "<p>23498 rows × 3 columns</p>\n",
       "</div>"
      ],
      "text/plain": [
       "        source_p  destination_p    len\n",
       "6        36954.0         1720.0    0.0\n",
       "7        36954.0         5900.0    0.0\n",
       "8        36954.0          135.0    0.0\n",
       "9        36954.0          143.0    0.0\n",
       "10       36954.0          993.0    0.0\n",
       "...          ...            ...    ...\n",
       "111197    3850.0          443.0   69.0\n",
       "111198    3850.0          443.0    0.0\n",
       "111199    3850.0          443.0  341.0\n",
       "111200    3850.0          443.0    0.0\n",
       "111201    3850.0          443.0    0.0\n",
       "\n",
       "[23498 rows x 3 columns]"
      ]
     },
     "execution_count": 10,
     "metadata": {},
     "output_type": "execute_result"
    }
   ],
   "source": [
    "df[df['len'].notna()]"
   ]
  },
  {
   "cell_type": "code",
   "execution_count": 11,
   "metadata": {},
   "outputs": [],
   "source": [
    "df['Transaction_ID'] = data['Info'].apply(extract_transaction_id)"
   ]
  },
  {
   "cell_type": "code",
   "execution_count": 17,
   "metadata": {},
   "outputs": [
    {
     "data": {
      "text/plain": [
       "3         0x0c44\n",
       "5         0x0c44\n",
       "2805      0x5459\n",
       "2806      0x5459\n",
       "6086      0xc082\n",
       "           ...  \n",
       "111121    0x0021\n",
       "111153    0x00df\n",
       "111154    0x00df\n",
       "111185    0x0021\n",
       "111193    0x00df\n",
       "Name: Transaction_ID, Length: 78994, dtype: object"
      ]
     },
     "execution_count": 17,
     "metadata": {},
     "output_type": "execute_result"
    }
   ],
   "source": [
    "df[df['Transaction_ID'].notna()]['Transaction_ID']"
   ]
  },
  {
   "cell_type": "code",
   "execution_count": 26,
   "metadata": {},
   "outputs": [],
   "source": [
    "pd.DataFrame(data.Info.unique()).to_csv('info.csv')"
   ]
  },
  {
   "cell_type": "code",
   "execution_count": null,
   "metadata": {},
   "outputs": [],
   "source": []
  }
 ],
 "metadata": {
  "kernelspec": {
   "display_name": ".venv",
   "language": "python",
   "name": "python3"
  },
  "language_info": {
   "codemirror_mode": {
    "name": "ipython",
    "version": 3
   },
   "file_extension": ".py",
   "mimetype": "text/x-python",
   "name": "python",
   "nbconvert_exporter": "python",
   "pygments_lexer": "ipython3",
   "version": "3.12.0"
  }
 },
 "nbformat": 4,
 "nbformat_minor": 2
}
