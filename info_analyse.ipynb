{
 "cells": [
  {
   "cell_type": "code",
   "execution_count": 1,
   "metadata": {},
   "outputs": [],
   "source": [
    "import re\n",
    "import numpy as np\n",
    "import pandas as pd"
   ]
  },
  {
   "cell_type": "code",
   "execution_count": 2,
   "metadata": {},
   "outputs": [],
   "source": [
    "path_to_data = 'data/ECU_IoHT.xlsx'\n",
    "data = pd.read_excel(path_to_data)"
   ]
  },
  {
   "cell_type": "code",
   "execution_count": 3,
   "metadata": {},
   "outputs": [],
   "source": [
    "def extract_source_destination_port(text):\n",
    "    match = re.search(r'(\\d+)\\s*>\\s*(\\d+)', text)\n",
    "    if match:\n",
    "        source, destination = match.groups()\n",
    "        # Remove the matched substring from text\n",
    "        updated_text = text.replace(match.group(0), '', 1).strip()\n",
    "        return int(source), int(destination), updated_text\n",
    "    else:\n",
    "        return np.nan, np.nan, text"
   ]
  },
  {
   "cell_type": "code",
   "execution_count": 4,
   "metadata": {},
   "outputs": [],
   "source": [
    "df = pd.DataFrame()\n",
    "df[['source_p', 'destination_p', 'updated_info']] = data.Info.apply(lambda x: pd.Series(extract_source_destination_port(x)))"
   ]
  },
  {
   "cell_type": "code",
   "execution_count": 5,
   "metadata": {},
   "outputs": [
    {
     "data": {
      "text/plain": [
       "(8833, 24010)"
      ]
     },
     "execution_count": 5,
     "metadata": {},
     "output_type": "execute_result"
    }
   ],
   "source": [
    "df['updated_info'].nunique(), data['Info'].nunique()"
   ]
  },
  {
   "cell_type": "code",
   "execution_count": 6,
   "metadata": {},
   "outputs": [],
   "source": [
    "def extract_seq(text):\n",
    "    # Adjust regex to match the sequence number\n",
    "    match = re.search(r'seq\\s*=\\s*(\\d+)', text, re.IGNORECASE)  #\n",
    "    if match:\n",
    "        Seq = match.group(1)  # Get the first group directly\n",
    "        updated_text = text.replace(match.group(0), '', 1).strip()\n",
    "        return int(Seq), updated_text\n",
    "    else:\n",
    "        return np.nan, text\n"
   ]
  },
  {
   "cell_type": "code",
   "execution_count": 7,
   "metadata": {},
   "outputs": [],
   "source": [
    "df2 = pd.DataFrame()\n",
    "df2[['seq', 'updated_info']] = df['updated_info'].apply(lambda x: pd.Series(extract_seq(x)))"
   ]
  },
  {
   "cell_type": "code",
   "execution_count": 8,
   "metadata": {},
   "outputs": [
    {
     "data": {
      "text/plain": [
       "(7677, 8833, 24010)"
      ]
     },
     "execution_count": 8,
     "metadata": {},
     "output_type": "execute_result"
    }
   ],
   "source": [
    "df2['updated_info'].nunique(), df['updated_info'].nunique(), data['Info'].nunique()"
   ]
  },
  {
   "cell_type": "code",
   "execution_count": 9,
   "metadata": {},
   "outputs": [
    {
     "data": {
      "text/plain": [
       "2379"
      ]
     },
     "execution_count": 9,
     "metadata": {},
     "output_type": "execute_result"
    }
   ],
   "source": [
    "df2[df2['seq'].notna()]['seq'].nunique()"
   ]
  },
  {
   "cell_type": "code",
   "execution_count": 10,
   "metadata": {},
   "outputs": [],
   "source": [
    "def extract_transaction_id(text):\n",
    "    # Regex to match transaction ID starting with 0x and followed by hexadecimal characters\n",
    "    match = re.search(r'0x[0-9a-fA-F]+', text)\n",
    "    \n",
    "    if match:\n",
    "        # Extract the transaction ID as a string\n",
    "        transaction_id = match.group(0)\n",
    "        \n",
    "        # Remove the transaction ID from the original text\n",
    "        updated_text = text.replace(match.group(0), '').strip()  # Strip to clean up any leading/trailing spaces\n",
    "        \n",
    "        # Return the integer value of the transaction ID and the updated text\n",
    "        return int(transaction_id, 16), updated_text  # Convert hex to integer and return\n",
    "        \n",
    "    else:\n",
    "        # If no transaction ID is found, return np.nan for both values\n",
    "        return np.nan, text\n"
   ]
  },
  {
   "cell_type": "code",
   "execution_count": 11,
   "metadata": {},
   "outputs": [],
   "source": [
    "df3 = pd.DataFrame()\n",
    "df3[['transaction_id', 'updated_info']] = df2['updated_info'].apply(lambda x: pd.Series(extract_transaction_id(x)))"
   ]
  },
  {
   "cell_type": "code",
   "execution_count": 12,
   "metadata": {},
   "outputs": [
    {
     "data": {
      "text/plain": [
       "(7166, 7677, 8833, 24010)"
      ]
     },
     "execution_count": 12,
     "metadata": {},
     "output_type": "execute_result"
    }
   ],
   "source": [
    "df3['updated_info'].nunique(), df2['updated_info'].nunique(), df['updated_info'].nunique(), data['Info'].nunique()"
   ]
  },
  {
   "cell_type": "code",
   "execution_count": 29,
   "metadata": {},
   "outputs": [],
   "source": [
    "def extract_len(text):\n",
    "    match = re.search(r'Len=(\\d+)', text)\n",
    "    if match:\n",
    "        length = match.group(1) \n",
    "        updated_text = text.replace(match.group(0), '').strip()  # Strip to clean up any leading/trailing spaces\n",
    "        return int(length), updated_text\n",
    "    else:\n",
    "        return np.nan, text"
   ]
  },
  {
   "cell_type": "code",
   "execution_count": 30,
   "metadata": {},
   "outputs": [],
   "source": [
    "df4 = pd.DataFrame()\n",
    "df4[['Len', 'updated_info']] = df3['updated_info'].apply(lambda x: pd.Series(extract_len(x)))"
   ]
  },
  {
   "cell_type": "code",
   "execution_count": 37,
   "metadata": {},
   "outputs": [
    {
     "data": {
      "text/html": [
       "<div>\n",
       "<style scoped>\n",
       "    .dataframe tbody tr th:only-of-type {\n",
       "        vertical-align: middle;\n",
       "    }\n",
       "\n",
       "    .dataframe tbody tr th {\n",
       "        vertical-align: top;\n",
       "    }\n",
       "\n",
       "    .dataframe thead th {\n",
       "        text-align: right;\n",
       "    }\n",
       "</style>\n",
       "<table border=\"1\" class=\"dataframe\">\n",
       "  <thead>\n",
       "    <tr style=\"text-align: right;\">\n",
       "      <th></th>\n",
       "      <th>Len</th>\n",
       "      <th>updated_info</th>\n",
       "    </tr>\n",
       "  </thead>\n",
       "  <tbody>\n",
       "    <tr>\n",
       "      <th>6</th>\n",
       "      <td>0.0</td>\n",
       "      <td>[SYN]  Win=1024  MSS=1460</td>\n",
       "    </tr>\n",
       "    <tr>\n",
       "      <th>7</th>\n",
       "      <td>0.0</td>\n",
       "      <td>[SYN]  Win=1024  MSS=1460</td>\n",
       "    </tr>\n",
       "    <tr>\n",
       "      <th>8</th>\n",
       "      <td>0.0</td>\n",
       "      <td>[SYN]  Win=1024  MSS=1460</td>\n",
       "    </tr>\n",
       "    <tr>\n",
       "      <th>9</th>\n",
       "      <td>0.0</td>\n",
       "      <td>[SYN]  Win=1024  MSS=1460</td>\n",
       "    </tr>\n",
       "    <tr>\n",
       "      <th>10</th>\n",
       "      <td>0.0</td>\n",
       "      <td>[SYN]  Win=1024  MSS=1460</td>\n",
       "    </tr>\n",
       "    <tr>\n",
       "      <th>...</th>\n",
       "      <td>...</td>\n",
       "      <td>...</td>\n",
       "    </tr>\n",
       "    <tr>\n",
       "      <th>111197</th>\n",
       "      <td>69.0</td>\n",
       "      <td>[TCP Retransmission]  [PSH, ACK]  Ack=1 Win=4565</td>\n",
       "    </tr>\n",
       "    <tr>\n",
       "      <th>111198</th>\n",
       "      <td>0.0</td>\n",
       "      <td>[ACK]  Ack=76 Win=4490</td>\n",
       "    </tr>\n",
       "    <tr>\n",
       "      <th>111199</th>\n",
       "      <td>341.0</td>\n",
       "      <td>[TCP Retransmission]  [PSH, ACK]  Ack=76 Win=4490</td>\n",
       "    </tr>\n",
       "    <tr>\n",
       "      <th>111200</th>\n",
       "      <td>0.0</td>\n",
       "      <td>[ACK]  Ack=518 Win=4048</td>\n",
       "    </tr>\n",
       "    <tr>\n",
       "      <th>111201</th>\n",
       "      <td>0.0</td>\n",
       "      <td>[RST, ACK]  Ack=519 Win=5840</td>\n",
       "    </tr>\n",
       "  </tbody>\n",
       "</table>\n",
       "<p>23498 rows × 2 columns</p>\n",
       "</div>"
      ],
      "text/plain": [
       "          Len                                       updated_info\n",
       "6         0.0                          [SYN]  Win=1024  MSS=1460\n",
       "7         0.0                          [SYN]  Win=1024  MSS=1460\n",
       "8         0.0                          [SYN]  Win=1024  MSS=1460\n",
       "9         0.0                          [SYN]  Win=1024  MSS=1460\n",
       "10        0.0                          [SYN]  Win=1024  MSS=1460\n",
       "...       ...                                                ...\n",
       "111197   69.0   [TCP Retransmission]  [PSH, ACK]  Ack=1 Win=4565\n",
       "111198    0.0                             [ACK]  Ack=76 Win=4490\n",
       "111199  341.0  [TCP Retransmission]  [PSH, ACK]  Ack=76 Win=4490\n",
       "111200    0.0                            [ACK]  Ack=518 Win=4048\n",
       "111201    0.0                       [RST, ACK]  Ack=519 Win=5840\n",
       "\n",
       "[23498 rows x 2 columns]"
      ]
     },
     "execution_count": 37,
     "metadata": {},
     "output_type": "execute_result"
    }
   ],
   "source": [
    "df4[df4['Len'].notna()]"
   ]
  },
  {
   "cell_type": "code",
   "execution_count": 40,
   "metadata": {},
   "outputs": [
    {
     "data": {
      "text/plain": [
       "(7132, 7166)"
      ]
     },
     "execution_count": 40,
     "metadata": {},
     "output_type": "execute_result"
    }
   ],
   "source": [
    "df4['updated_info'].nunique(), df3['updated_info'].nunique()"
   ]
  },
  {
   "cell_type": "code",
   "execution_count": 16,
   "metadata": {},
   "outputs": [
    {
     "data": {
      "text/plain": [
       "updated_info\n",
       "Echo (ping) request  id=, /59262, ttl=64 (no response found!)                                             77715\n",
       "[SYN]  Win=1024 Len=0 MSS=1460                                                                             7307\n",
       "Application Data                                                                                           4029\n",
       "[RST, ACK]  Ack=1 Win=5840 Len=0                                                                           3426\n",
       "[RST, ACK]  Ack=1 Win=0 Len=0                                                                              2798\n",
       "                                                                                                          ...  \n",
       "[TCP Dup ACK 111124#1]  [ACK]  Ack=1 Win=4565 Len=0                                                           1\n",
       "[TCP Dup ACK 111133#1]  [ACK]  Ack=76 Win=4490 Len=0                                                          1\n",
       "[TCP Dup ACK 111157#1]  [ACK]  Ack=1 Win=4565 Len=0                                                           1\n",
       "[TCP Dup ACK 111166#1]  [ACK]  Ack=76 Win=4490 Len=0                                                          1\n",
       "[TCP Port numbers reused]  [SYN]  Win=31337 Len=0 WS=1024 MSS=265 TSval=4294967295 TSecr=0 SACK_PERM=1        1\n",
       "Name: count, Length: 7166, dtype: int64"
      ]
     },
     "execution_count": 16,
     "metadata": {},
     "output_type": "execute_result"
    }
   ],
   "source": [
    "df4['updated_info'].value_counts()"
   ]
  },
  {
   "cell_type": "code",
   "execution_count": 17,
   "metadata": {},
   "outputs": [],
   "source": [
    "def extract_rquests_vs_responce():\n",
    "    pass"
   ]
  },
  {
   "cell_type": "code",
   "execution_count": 44,
   "metadata": {},
   "outputs": [],
   "source": [
    "def extract_win(text):\n",
    "    match = re.search(r'Win=(\\d+)', text)\n",
    "    if match:\n",
    "        length = match.group(1) \n",
    "        updated_text = text.replace(match.group(0), '').strip()  # Strip to clean up any leading/trailing spaces\n",
    "        return int(length), updated_text\n",
    "    else:\n",
    "        return np.nan, text"
   ]
  },
  {
   "cell_type": "code",
   "execution_count": 45,
   "metadata": {},
   "outputs": [],
   "source": [
    "df5 = pd.DataFrame()\n",
    "df5[['Win', 'updated_info']] = df4['updated_info'].apply(lambda x: pd.Series(extract_win(x)))"
   ]
  },
  {
   "cell_type": "code",
   "execution_count": 46,
   "metadata": {},
   "outputs": [
    {
     "data": {
      "text/plain": [
       "(7114, 7132, 7166)"
      ]
     },
     "execution_count": 46,
     "metadata": {},
     "output_type": "execute_result"
    }
   ],
   "source": [
    "df5['updated_info'].nunique(),df4['updated_info'].nunique(), df3['updated_info'].nunique()"
   ]
  },
  {
   "cell_type": "code",
   "execution_count": 48,
   "metadata": {},
   "outputs": [
    {
     "data": {
      "text/plain": [
       "Win       updated_info                                      \n",
       "1024.0    [SYN]    MSS=1460                                     7307\n",
       "5840.0    [RST, ACK]  Ack=1                                     3426\n",
       "0.0       [RST, ACK]  Ack=1                                     2798\n",
       "32767.0   [SYN]                                                 1023\n",
       "5840.0    [TCP Retransmission]  [SYN]    MSS=1460                329\n",
       "                                                                ... \n",
       "757376.0  [ACK]  Ack=740746   TSval=2005773 TSecr=1956108789       1\n",
       "          [ACK]  Ack=698506   TSval=2005767 TSecr=1956108789       1\n",
       "          [ACK]  Ack=701322   TSval=2005769 TSecr=1956108789       1\n",
       "          [ACK]  Ack=704138   TSval=2005770 TSecr=1956108789       1\n",
       "          [ACK]  Ack=706954   TSval=2005770 TSecr=1956108789       1\n",
       "Name: count, Length: 6423, dtype: int64"
      ]
     },
     "execution_count": 48,
     "metadata": {},
     "output_type": "execute_result"
    }
   ],
   "source": [
    "df5[df5['Win'].notna()].value_counts()"
   ]
  },
  {
   "cell_type": "code",
   "execution_count": 49,
   "metadata": {},
   "outputs": [],
   "source": [
    "def extract_MSS(text):\n",
    "    match = re.search(r'MSS=(\\d+)', text)\n",
    "    if match:\n",
    "        length = match.group(1) \n",
    "        updated_text = text.replace(match.group(0), '').strip()  # Strip to clean up any leading/trailing spaces\n",
    "        return int(length), updated_text\n",
    "    else:\n",
    "        return np.nan, text"
   ]
  },
  {
   "cell_type": "code",
   "execution_count": 54,
   "metadata": {},
   "outputs": [],
   "source": [
    "df6 = pd.DataFrame()\n",
    "df6[['MSS', 'updated_info']] = df5['updated_info'].apply(lambda x: pd.Series(extract_MSS(x)))"
   ]
  },
  {
   "cell_type": "code",
   "execution_count": 58,
   "metadata": {},
   "outputs": [
    {
     "data": {
      "text/plain": [
       "(7112, 7114)"
      ]
     },
     "execution_count": 58,
     "metadata": {},
     "output_type": "execute_result"
    }
   ],
   "source": [
    "df6['updated_info'].nunique(),df5['updated_info'].nunique()"
   ]
  },
  {
   "cell_type": "code",
   "execution_count": 63,
   "metadata": {},
   "outputs": [
    {
     "data": {
      "text/plain": [
       "MSS     updated_info                                                          \n",
       "1460.0  [SYN]                                                                     7362\n",
       "        [TCP Retransmission]  [SYN]                                                329\n",
       "        [SYN]     SACK_PERM=1 TSval=2012018 TSecr=0 WS=128                           6\n",
       "1420.0  [SYN, ACK]  Ack=1    WS=512 SACK_PERM=1 TSval=1956203515 TSecr=2029432       5\n",
       "1460.0  [SYN]     SACK_PERM=1 TSval=2028589 TSecr=0 WS=128                           5\n",
       "                                                                                  ... \n",
       "        [SYN]     SACK_PERM=1 TSval=74461 TSecr=0 WS=128                             1\n",
       "        [SYN]     SACK_PERM=1 TSval=75595 TSecr=0 WS=128                             1\n",
       "        [SYN]    WS=1024  TSval=4294967295 TSecr=0 SACK_PERM=1                       1\n",
       "        [TCP Retransmission]  [SYN, ACK]  Ack=1                                      1\n",
       "265.0   [<None>]    WS=1024  TSval=4294967295 TSecr=0 SACK_PERM=1                    1\n",
       "Name: count, Length: 287, dtype: int64"
      ]
     },
     "execution_count": 63,
     "metadata": {},
     "output_type": "execute_result"
    }
   ],
   "source": [
    "df6[df6['MSS'].notna()].value_counts()"
   ]
  },
  {
   "cell_type": "code",
   "execution_count": 50,
   "metadata": {},
   "outputs": [],
   "source": [
    "def extract_Ack(text):\n",
    "    match = re.search(r'Ack=(\\d+)', text)\n",
    "    if match:\n",
    "        length = match.group(1) \n",
    "        updated_text = text.replace(match.group(0), '').strip()  # Strip to clean up any leading/trailing spaces\n",
    "        return int(length), updated_text\n",
    "    else:\n",
    "        return np.nan, text"
   ]
  },
  {
   "cell_type": "code",
   "execution_count": 55,
   "metadata": {},
   "outputs": [],
   "source": [
    "df7 = pd.DataFrame()\n",
    "df7[['Ack', 'updated_info']] = df6['updated_info'].apply(lambda x: pd.Series(extract_Ack(x)))"
   ]
  },
  {
   "cell_type": "code",
   "execution_count": 59,
   "metadata": {},
   "outputs": [
    {
     "data": {
      "text/plain": [
       "(5361, 7112)"
      ]
     },
     "execution_count": 59,
     "metadata": {},
     "output_type": "execute_result"
    }
   ],
   "source": [
    "df7['updated_info'].nunique(),df6['updated_info'].nunique()"
   ]
  },
  {
   "cell_type": "code",
   "execution_count": null,
   "metadata": {},
   "outputs": [
    {
     "data": {
      "text/plain": [
       "Ack           updated_info                                                                                            \n",
       "1.000000e+00  [RST, ACK]                                                                                                  6224\n",
       "              [TCP Retransmission]  [PSH, ACK]                                                                             200\n",
       "              [ACK]                                                                                                         86\n",
       "5.190000e+02  [RST, ACK]                                                                                                    81\n",
       "4.440000e+02  [RST, ACK]                                                                                                    69\n",
       "                                                                                                                          ... \n",
       "4.213790e+08  [TCP Dup ACK 8358#1] [TCP ACKed unseen segment]  [ACK]     WS=1024  TSval=4294967295 TSecr=0 SACK_PERM=1       1\n",
       "1.017995e+09  [RST, ACK]                                                                                                     1\n",
       "              [TCP ACKed unseen segment]  [RST, ACK]                                                                         1\n",
       "              [RST, ACK]                                                                                                     1\n",
       "1.384167e+06  [ACK]     TSval=1991033 TSecr=1956049878                                                                       1\n",
       "Name: count, Length: 6261, dtype: int64"
      ]
     },
     "execution_count": 64,
     "metadata": {},
     "output_type": "execute_result"
    }
   ],
   "source": [
    "df7[df7['Ack'].notna()].value_counts()"
   ]
  },
  {
   "cell_type": "code",
   "execution_count": 51,
   "metadata": {},
   "outputs": [],
   "source": [
    "def extract_TSval(text):\n",
    "    match = re.search(r'TSval=(\\d+)', text)\n",
    "    if match:\n",
    "        length = match.group(1) \n",
    "        updated_text = text.replace(match.group(0), '').strip()  # Strip to clean up any leading/trailing spaces\n",
    "        return int(length), updated_text\n",
    "    else:\n",
    "        return np.nan, text"
   ]
  },
  {
   "cell_type": "code",
   "execution_count": 56,
   "metadata": {},
   "outputs": [],
   "source": [
    "df8 = pd.DataFrame()\n",
    "df8[['TSval', 'updated_info']] = df7['updated_info'].apply(lambda x: pd.Series(extract_TSval(x)))"
   ]
  },
  {
   "cell_type": "code",
   "execution_count": 60,
   "metadata": {},
   "outputs": [
    {
     "data": {
      "text/plain": [
       "(4451, 5361)"
      ]
     },
     "execution_count": 60,
     "metadata": {},
     "output_type": "execute_result"
    }
   ],
   "source": [
    "df8['updated_info'].nunique(),df7['updated_info'].nunique()"
   ]
  },
  {
   "cell_type": "code",
   "execution_count": 65,
   "metadata": {},
   "outputs": [
    {
     "data": {
      "text/plain": [
       "TSval         updated_info                                                                                \n",
       "1.956108e+09  [ACK]      TSecr=2005604 [TCP segment of a reassembled PDU]                                     54\n",
       "              [ACK]      TSecr=2005510 [TCP segment of a reassembled PDU]                                     48\n",
       "              [ACK]      TSecr=2005428 [TCP segment of a reassembled PDU]                                     40\n",
       "1.956198e+09  [ACK]      TSecr=2027972 [TCP segment of a reassembled PDU]                                     39\n",
       "              [ACK]      TSecr=2027958 [TCP segment of a reassembled PDU]                                     28\n",
       "                                                                                                              ..\n",
       "4.294967e+09  [TCP Port numbers reused]  [SYN]    WS=1024   TSecr=0 SACK_PERM=1                                1\n",
       "              [TCP Previous segment not captured]  [FIN, PSH, URG]   Urg=0  WS=16384   TSecr=0 SACK_PERM=1     1\n",
       "1.991012e+06  [ACK]      TSecr=1956049799                                                                      1\n",
       "              [ACK]      TSecr=1956049800                                                                      1\n",
       "4.294967e+09  [SYN]     SACK_PERM=1  TSecr=0                                                                   1\n",
       "Name: count, Length: 4527, dtype: int64"
      ]
     },
     "execution_count": 65,
     "metadata": {},
     "output_type": "execute_result"
    }
   ],
   "source": [
    "df8[df8['TSval'].notna()].value_counts()"
   ]
  },
  {
   "cell_type": "code",
   "execution_count": 52,
   "metadata": {},
   "outputs": [],
   "source": [
    "def extract_TSecr(text):\n",
    "    match = re.search(r'TSecr=(\\d+)', text)\n",
    "    if match:\n",
    "        length = match.group(1) \n",
    "        updated_text = text.replace(match.group(0), '').strip()  # Strip to clean up any leading/trailing spaces\n",
    "        return int(length), updated_text\n",
    "    else:\n",
    "        return np.nan, text"
   ]
  },
  {
   "cell_type": "code",
   "execution_count": 57,
   "metadata": {},
   "outputs": [],
   "source": [
    "df9 = pd.DataFrame()\n",
    "df9[['TSecr', 'updated_info']] = df8['updated_info'].apply(lambda x: pd.Series(extract_TSecr(x)))"
   ]
  },
  {
   "cell_type": "code",
   "execution_count": 61,
   "metadata": {},
   "outputs": [
    {
     "data": {
      "text/plain": [
       "(960, 4451)"
      ]
     },
     "execution_count": 61,
     "metadata": {},
     "output_type": "execute_result"
    }
   ],
   "source": [
    "df9['updated_info'].nunique(),df8['updated_info'].nunique()"
   ]
  },
  {
   "cell_type": "code",
   "execution_count": 66,
   "metadata": {},
   "outputs": [
    {
     "data": {
      "text/plain": [
       "TSecr         updated_info                                              \n",
       "0.000000e+00  [SYN]     SACK_PERM=1   WS=128                                184\n",
       "2.005604e+06  [ACK]       [TCP segment of a reassembled PDU]                 94\n",
       "2.028086e+06  [ACK]       [TCP segment of a reassembled PDU]                 90\n",
       "2.005510e+06  [ACK]       [TCP segment of a reassembled PDU]                 71\n",
       "2.005428e+06  [ACK]       [TCP segment of a reassembled PDU]                 55\n",
       "                                                                           ... \n",
       "0.000000e+00  [TCP Port numbers reused]  [SYN]    WS=1024    SACK_PERM=1      1\n",
       "1.956206e+09  [ACK]                                                           1\n",
       "              [ACK]                                                           1\n",
       "              [ACK]                                                           1\n",
       "              [ACK]                                                           1\n",
       "Name: count, Length: 3617, dtype: int64"
      ]
     },
     "execution_count": 66,
     "metadata": {},
     "output_type": "execute_result"
    }
   ],
   "source": [
    "df9[df9['TSecr'].notna()].value_counts()"
   ]
  },
  {
   "cell_type": "code",
   "execution_count": 67,
   "metadata": {},
   "outputs": [],
   "source": [
    "def extract_WS(text):\n",
    "    match = re.search(r'WS=(\\d+)', text)\n",
    "    if match:\n",
    "        length = match.group(1) \n",
    "        updated_text = text.replace(match.group(0), '').strip()  # Strip to clean up any leading/trailing spaces\n",
    "        return int(length), updated_text\n",
    "    else:\n",
    "        return np.nan, text"
   ]
  },
  {
   "cell_type": "code",
   "execution_count": 69,
   "metadata": {},
   "outputs": [],
   "source": [
    "df10 = pd.DataFrame()\n",
    "df10[['WS', 'updated_info']] = df9['updated_info'].apply(lambda x: pd.Series(extract_WS(x)))"
   ]
  },
  {
   "cell_type": "code",
   "execution_count": 71,
   "metadata": {},
   "outputs": [
    {
     "data": {
      "text/plain": [
       "(954, 960)"
      ]
     },
     "execution_count": 71,
     "metadata": {},
     "output_type": "execute_result"
    }
   ],
   "source": [
    "df10['updated_info'].nunique(),df9['updated_info'].nunique()"
   ]
  },
  {
   "cell_type": "code",
   "execution_count": 73,
   "metadata": {},
   "outputs": [
    {
     "data": {
      "text/plain": [
       "WS       updated_info                                                                             \n",
       "128.0    [SYN]     SACK_PERM=1                                                                        184\n",
       "512.0    [SYN, ACK]       SACK_PERM=1                                                                 174\n",
       "256.0    [SYN, ACK]      SACK_PERM=1                                                                    7\n",
       "32.0     [SYN, ACK]       SACK_PERM=1                                                                   7\n",
       "1024.0   [ACK]         SACK_PERM=1                                                                      3\n",
       "         [SYN]        SACK_PERM=1                                                                       3\n",
       "         [TCP Retransmission]  [FIN, SYN, PSH, URG]   Urg=0      SACK_PERM=1                            3\n",
       "16384.0  [FIN, PSH, URG]   Urg=0      SACK_PERM=1                                                       2\n",
       "         [TCP Retransmission]  [FIN, PSH, URG]   Urg=0      SACK_PERM=1                                 2\n",
       "1.0      [SYN]      SACK_PERM=1                                                                         1\n",
       "1024.0   [<None>]        SACK_PERM=1                                                                    1\n",
       "32.0     [SYN]                                                                                          1\n",
       "256.0    [SYN, ACK, ECN]      SACK_PERM=1                                                               1\n",
       "         [SYN, ACK]                                                                                     1\n",
       "1024.0   [SYN]    SACK_PERM=1                                                                           1\n",
       "         [FIN, SYN, PSH, URG]   Urg=0      SACK_PERM=1                                                  1\n",
       "         [SYN, ECN, CWR, Reserved]      SACK_PERM=1                                                     1\n",
       "         [SYN]     SACK_PERM=1                                                                          1\n",
       "         [TCP Dup ACK 12624#2]  [<None>]        SACK_PERM=1                                             1\n",
       "         [TCP Dup ACK 12624#1]  [<None>]        SACK_PERM=1                                             1\n",
       "         [TCP ACKed unseen segment] [TCP Previous segment not captured]  [ACK]         SACK_PERM=1      1\n",
       "         [TCP Dup ACK 12624#3]  [<None>]        SACK_PERM=1                                             1\n",
       "         [TCP Port numbers reused]  [SYN]        SACK_PERM=1                                            1\n",
       "         [TCP Dup ACK 8358#1] [TCP ACKed unseen segment]  [ACK]         SACK_PERM=1                     1\n",
       "         [TCP Retransmission]  [SYN]        SACK_PERM=1                                                 1\n",
       "16384.0  [TCP Previous segment not captured]  [FIN, PSH, URG]   Urg=0      SACK_PERM=1                  1\n",
       "Name: count, dtype: int64"
      ]
     },
     "execution_count": 73,
     "metadata": {},
     "output_type": "execute_result"
    }
   ],
   "source": [
    "df10[df10['WS'].notna()].value_counts()"
   ]
  },
  {
   "cell_type": "code",
   "execution_count": 68,
   "metadata": {},
   "outputs": [],
   "source": [
    "def extract_Urg(text):\n",
    "    match = re.search(r'Urg=(\\d+)', text)\n",
    "    if match:\n",
    "        length = match.group(1) \n",
    "        updated_text = text.replace(match.group(0), '').strip()  # Strip to clean up any leading/trailing spaces\n",
    "        return int(length), updated_text\n",
    "    else:\n",
    "        return np.nan, text"
   ]
  },
  {
   "cell_type": "code",
   "execution_count": 70,
   "metadata": {},
   "outputs": [],
   "source": [
    "df11 = pd.DataFrame()\n",
    "df11[['Urg', 'updated_info']] = df10['updated_info'].apply(lambda x: pd.Series(extract_Urg(x)))"
   ]
  },
  {
   "cell_type": "code",
   "execution_count": 72,
   "metadata": {},
   "outputs": [
    {
     "data": {
      "text/plain": [
       "(954, 954)"
      ]
     },
     "execution_count": 72,
     "metadata": {},
     "output_type": "execute_result"
    }
   ],
   "source": [
    "df11['updated_info'].nunique(),df10['updated_info'].nunique()"
   ]
  },
  {
   "cell_type": "code",
   "execution_count": 74,
   "metadata": {},
   "outputs": [
    {
     "data": {
      "text/plain": [
       "Urg  updated_info                                                            \n",
       "0.0  [TCP Retransmission]  [FIN, SYN, PSH, URG]         SACK_PERM=1              3\n",
       "     [FIN, PSH, URG]         SACK_PERM=1                                         2\n",
       "     [TCP Retransmission]  [FIN, PSH, URG]         SACK_PERM=1                   2\n",
       "     [TCP Previous segment not captured]  [FIN, PSH, URG]         SACK_PERM=1    1\n",
       "     [FIN, SYN, PSH, URG]         SACK_PERM=1                                    1\n",
       "Name: count, dtype: int64"
      ]
     },
     "execution_count": 74,
     "metadata": {},
     "output_type": "execute_result"
    }
   ],
   "source": [
    "df11[df11['Urg'].notna()].value_counts()"
   ]
  },
  {
   "cell_type": "code",
   "execution_count": 75,
   "metadata": {},
   "outputs": [
    {
     "data": {
      "text/plain": [
       "updated_info\n",
       "Echo (ping) request  id=, /59262, ttl=64 (no response found!)                                77715\n",
       "[SYN]                                                                                         8386\n",
       "[RST, ACK]                                                                                    6429\n",
       "[ACK]                                                                                         5395\n",
       "Application Data                                                                              4029\n",
       "                                                                                             ...  \n",
       "[TCP Previous segment not captured]  [FIN, PSH, URG]         SACK_PERM=1                         1\n",
       "[TCP ACKed unseen segment] [TCP Previous segment not captured]  [ACK]         SACK_PERM=1        1\n",
       "[TCP Port numbers reused]  [SYN]        SACK_PERM=1                                              1\n",
       "Echo (ping) request  id=, /10241, ttl=45 (no response found!)                                    1\n",
       "Echo (ping) request  id=, /9985, ttl=45 (no response found!)                                     1\n",
       "Name: count, Length: 954, dtype: int64"
      ]
     },
     "execution_count": 75,
     "metadata": {},
     "output_type": "execute_result"
    }
   ],
   "source": [
    "df11['updated_info'].value_counts()"
   ]
  },
  {
   "cell_type": "code",
   "execution_count": 77,
   "metadata": {},
   "outputs": [],
   "source": [
    "def extract_SACK_PERM(text):\n",
    "    match = re.search(r'SACK_PERM=(\\d+)', text)\n",
    "    if match:\n",
    "        length = match.group(1) \n",
    "        updated_text = text.replace(match.group(0), '').strip()  # Strip to clean up any leading/trailing spaces\n",
    "        return int(length), updated_text\n",
    "    else:\n",
    "        return np.nan, text"
   ]
  },
  {
   "cell_type": "code",
   "execution_count": 78,
   "metadata": {},
   "outputs": [],
   "source": [
    "df12 = pd.DataFrame()\n",
    "df12[['SACK_PERM', 'updated_info']] = df11['updated_info'].apply(lambda x: pd.Series(extract_SACK_PERM(x)))"
   ]
  },
  {
   "cell_type": "code",
   "execution_count": 81,
   "metadata": {},
   "outputs": [
    {
     "data": {
      "text/plain": [
       "(946, 954)"
      ]
     },
     "execution_count": 81,
     "metadata": {},
     "output_type": "execute_result"
    }
   ],
   "source": [
    "df12['updated_info'].nunique(),df11['updated_info'].nunique()"
   ]
  },
  {
   "cell_type": "code",
   "execution_count": 83,
   "metadata": {},
   "outputs": [
    {
     "data": {
      "text/plain": [
       "updated_info\n",
       "Echo (ping) request  id=, /59262, ttl=64 (no response found!)    77715\n",
       "[SYN]                                                             8577\n",
       "[RST, ACK]                                                        6429\n",
       "[ACK]                                                             5398\n",
       "Application Data                                                  4029\n",
       "                                                                 ...  \n",
       "[TCP Dup ACK 111011#1]  [ACK]                                        1\n",
       "[TCP Dup ACK 110999#2]  [ACK]                                        1\n",
       "[TCP Dup ACK 110999#1]  [ACK]                                        1\n",
       "[TCP Dup ACK 110955#1]  [ACK]                                        1\n",
       "[TCP Dup ACK 110944#2]  [ACK]                                        1\n",
       "Name: count, Length: 946, dtype: int64"
      ]
     },
     "execution_count": 83,
     "metadata": {},
     "output_type": "execute_result"
    }
   ],
   "source": [
    "df12['updated_info'].value_counts()"
   ]
  },
  {
   "cell_type": "code",
   "execution_count": 79,
   "metadata": {},
   "outputs": [],
   "source": [
    "def extract_ttl(text):\n",
    "    match = re.search(r'ttl=(\\d+)', text)\n",
    "    if match:\n",
    "        length = match.group(1) \n",
    "        updated_text = text.replace(match.group(0), '').strip()  # Strip to clean up any leading/trailing spaces\n",
    "        return int(length), updated_text\n",
    "    else:\n",
    "        return np.nan, text"
   ]
  },
  {
   "cell_type": "code",
   "execution_count": 80,
   "metadata": {},
   "outputs": [],
   "source": [
    "df13 = pd.DataFrame()\n",
    "df13[['ttl', 'updated_info']] = df12['updated_info'].apply(lambda x: pd.Series(extract_ttl(x)))"
   ]
  },
  {
   "cell_type": "code",
   "execution_count": 82,
   "metadata": {},
   "outputs": [
    {
     "data": {
      "text/plain": [
       "(946, 946)"
      ]
     },
     "execution_count": 82,
     "metadata": {},
     "output_type": "execute_result"
    }
   ],
   "source": [
    "df13['updated_info'].nunique(),df12['updated_info'].nunique()"
   ]
  },
  {
   "cell_type": "code",
   "execution_count": 86,
   "metadata": {},
   "outputs": [],
   "source": [
    "df13['updated_info'].value_counts().to_csv('info946.csv')"
   ]
  },
  {
   "cell_type": "code",
   "execution_count": null,
   "metadata": {},
   "outputs": [],
   "source": [
    "def extract_seq_ack(text):\n",
    "    # Regular expression to match the sequence number and acknowledgment number\n",
    "    match = re.search(r'TCP Dup ACK (\\d+)#(\\d+)', text)\n",
    "    \n",
    "    if match:\n",
    "        seq_num = match.group(1)  # Sequence number\n",
    "        ack_num = match.group(2)  # Acknowledgment number\n",
    "        updated_text = text.replace(match.group(0), '').strip()  # Clean up the text after extraction\n",
    "        return int(seq_num), int(ack_num), updated_text\n",
    "    else:\n",
    "        return np.nan, np.nan, text"
   ]
  },
  {
   "cell_type": "code",
   "execution_count": null,
   "metadata": {},
   "outputs": [],
   "source": [
    "df14 = pd.DataFrame()\n",
    "df14[['seq_ack', 'ack_num', 'updated_info']] = df13['updated_info'].apply(lambda x: pd.Series(extract_seq_ack(x)))"
   ]
  },
  {
   "cell_type": "code",
   "execution_count": 90,
   "metadata": {},
   "outputs": [
    {
     "data": {
      "text/plain": [
       "(741, 946)"
      ]
     },
     "execution_count": 90,
     "metadata": {},
     "output_type": "execute_result"
    }
   ],
   "source": [
    "df14['updated_info'].nunique(),df13['updated_info'].nunique()"
   ]
  },
  {
   "cell_type": "code",
   "execution_count": 92,
   "metadata": {},
   "outputs": [],
   "source": [
    "df14['updated_info'].value_counts().to_csv('info741.csv')"
   ]
  },
  {
   "cell_type": "code",
   "execution_count": 95,
   "metadata": {},
   "outputs": [],
   "source": [
    "def extract_ips_from_parts(text):\n",
    "    # Regular expression to match IPv4 addresses\n",
    "    match = re.search(r'Who has (\\b(?:\\d{1,3}\\.){3}\\d{1,3}\\b).*?Tell (\\b(?:\\d{1,3}\\.){3}\\d{1,3}\\b)', text)\n",
    "    \n",
    "    if match:\n",
    "        # Extract the \"Who has\" IP and \"Tell\" IP\n",
    "        who_has_ip = match.group(1)\n",
    "        tell_ip = match.group(2)\n",
    "        \n",
    "        # Clean up the text after extracting the IPs\n",
    "        updated_text = text.replace(match.group(0), '').strip()\n",
    "        \n",
    "        return who_has_ip, tell_ip, updated_text\n",
    "    else:\n",
    "        # If no match found, return np.nan for both IPs and the original text\n",
    "        return np.nan, np.nan, text\n"
   ]
  },
  {
   "cell_type": "code",
   "execution_count": 96,
   "metadata": {},
   "outputs": [],
   "source": [
    "df15 = pd.DataFrame()\n",
    "df15[['who_has_ip', 'tell_ip', 'updated_info']] = df14['updated_info'].apply(lambda x: pd.Series(extract_ips_from_parts(x)))"
   ]
  },
  {
   "cell_type": "code",
   "execution_count": 97,
   "metadata": {},
   "outputs": [
    {
     "data": {
      "text/plain": [
       "(486, 741)"
      ]
     },
     "execution_count": 97,
     "metadata": {},
     "output_type": "execute_result"
    }
   ],
   "source": [
    "df15['updated_info'].nunique(),df14['updated_info'].nunique()"
   ]
  },
  {
   "cell_type": "code",
   "execution_count": 99,
   "metadata": {},
   "outputs": [],
   "source": [
    "df15['updated_info'].value_counts().to_csv('info486.csv')"
   ]
  },
  {
   "cell_type": "code",
   "execution_count": null,
   "metadata": {},
   "outputs": [],
   "source": []
  },
  {
   "cell_type": "code",
   "execution_count": null,
   "metadata": {},
   "outputs": [],
   "source": []
  }
 ],
 "metadata": {
  "kernelspec": {
   "display_name": ".venv",
   "language": "python",
   "name": "python3"
  },
  "language_info": {
   "codemirror_mode": {
    "name": "ipython",
    "version": 3
   },
   "file_extension": ".py",
   "mimetype": "text/x-python",
   "name": "python",
   "nbconvert_exporter": "python",
   "pygments_lexer": "ipython3",
   "version": "3.12.0"
  }
 },
 "nbformat": 4,
 "nbformat_minor": 2
}
